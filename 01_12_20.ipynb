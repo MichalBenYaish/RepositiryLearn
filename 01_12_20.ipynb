{
  "nbformat": 4,
  "nbformat_minor": 0,
  "metadata": {
    "kernelspec": {
      "display_name": "Python 3",
      "language": "python",
      "name": "python3"
    },
    "language_info": {
      "codemirror_mode": {
        "name": "ipython",
        "version": 3
      },
      "file_extension": ".py",
      "mimetype": "text/x-python",
      "name": "python",
      "nbconvert_exporter": "python",
      "pygments_lexer": "ipython3",
      "version": "3.7.3"
    },
    "colab": {
      "name": "01_12_20.ipynb",
      "provenance": [],
      "collapsed_sections": [],
      "include_colab_link": true
    }
  },
  "cells": [
    {
      "cell_type": "markdown",
      "metadata": {
        "id": "view-in-github",
        "colab_type": "text"
      },
      "source": [
        "<a href=\"https://colab.research.google.com/github/MichalBenYaish/RepositiryLearn/blob/main/01_12_20.ipynb\" target=\"_parent\"><img src=\"https://colab.research.google.com/assets/colab-badge.svg\" alt=\"Open In Colab\"/></a>"
      ]
    },
    {
      "cell_type": "markdown",
      "metadata": {
        "id": "SYAEaHpLt9uY"
      },
      "source": [
        "# Lab - Least Squares Regression"
      ]
    },
    {
      "cell_type": "code",
      "metadata": {
        "id": "GnIdzgvjt9uY"
      },
      "source": [
        "import numpy as np\n",
        "import matplotlib.pylab as plt"
      ],
      "execution_count": null,
      "outputs": []
    },
    {
      "cell_type": "code",
      "metadata": {
        "id": "gVIu4wekt9uY"
      },
      "source": [
        "x = np.array([1,2,3,4,5,6,7,8])\n",
        "y = np.array([15,32,66,45,90,153,170,200])"
      ],
      "execution_count": null,
      "outputs": []
    },
    {
      "cell_type": "markdown",
      "metadata": {
        "id": "y4dwloXZt9uY"
      },
      "source": [
        "Create a scatter graph"
      ]
    },
    {
      "cell_type": "code",
      "metadata": {
        "scrolled": true,
        "colab": {
          "base_uri": "https://localhost:8080/",
          "height": 282
        },
        "id": "2qfiPSN-t9uY",
        "outputId": "6fd172d3-7674-4eea-8fc9-7ef3437b17e6"
      },
      "source": [
        "plt.scatter(x,y)"
      ],
      "execution_count": null,
      "outputs": [
        {
          "output_type": "execute_result",
          "data": {
            "text/plain": [
              "<matplotlib.collections.PathCollection at 0x7f93a64f8e80>"
            ]
          },
          "metadata": {
            "tags": []
          },
          "execution_count": 4
        },
        {
          "output_type": "display_data",
          "data": {
            "image/png": "[encoded data removed]",
            "text/plain": [
              "<Figure size 432x288 with 1 Axes>"
            ]
          },
          "metadata": {
            "tags": [],
            "needs_background": "light"
          }
        }
      ]
    },
    {
      "cell_type": "markdown",
      "metadata": {
        "id": "zjQWgfMut9uZ"
      },
      "source": [
        "To create a linear regression model we need to build a simple linear function:"
      ]
    },
    {
      "cell_type": "markdown",
      "metadata": {
        "id": "gAQBPJlEt9uZ"
      },
      "source": [
        "# Y = mX + b"
      ]
    },
    {
      "cell_type": "markdown",
      "metadata": {
        "id": "-sWY8D3ft9uZ"
      },
      "source": [
        "## $m = \\frac{N * \\sum (xy) - \\sum (x)\\sum (y)}{N * \\sum X^{2}-(\\sum x)^{2}}$"
      ]
    },
    {
      "cell_type": "markdown",
      "metadata": {
        "id": "NRo9gmtyt9uZ"
      },
      "source": [
        "## $b = \\frac{\\sum y - m\\sum x}{N}$"
      ]
    },
    {
      "cell_type": "markdown",
      "metadata": {
        "id": "l2iJ_0Wct9uZ"
      },
      "source": [
        "Compute all the elements"
      ]
    },
    {
      "cell_type": "code",
      "metadata": {
        "colab": {
          "base_uri": "https://localhost:8080/"
        },
        "id": "rJbPmIn6t9uZ",
        "outputId": "aa87df6b-8498-43cf-b4e2-21642d6ad092"
      },
      "source": [
        "np.sum(x*y)"
      ],
      "execution_count": null,
      "outputs": [
        {
          "output_type": "execute_result",
          "data": {
            "text/plain": [
              "4615"
            ]
          },
          "metadata": {
            "tags": []
          },
          "execution_count": 5
        }
      ]
    },
    {
      "cell_type": "markdown",
      "metadata": {
        "id": "r2hAcA-TOAcp"
      },
      "source": [
        "שיטה למצוא את הקו הכי קרוב לכלל הנקודות\n"
      ]
    },
    {
      "cell_type": "code",
      "metadata": {
        "id": "1jDcgWS6t9uZ",
        "colab": {
          "base_uri": "https://localhost:8080/"
        },
        "outputId": "565755f5-9667-4c52-d2f3-34e6b9d0b3b0"
      },
      "source": [
        "m = (len(x) * np.sum(x*y) - np.sum(x) * np.sum(y)) / \\\n",
        "        (len(x)*np.sum(x*x) - np.sum(x) ** 2)\n",
        "print(m)\n"
      ],
      "execution_count": null,
      "outputs": [
        {
          "output_type": "stream",
          "text": [
            "27.273809523809526\n"
          ],
          "name": "stdout"
        }
      ]
    },
    {
      "cell_type": "code",
      "metadata": {
        "id": "JE9Epl3it9uZ"
      },
      "source": [
        "b = (np.sum(y)-m*np.sum(x))/8"
      ],
      "execution_count": null,
      "outputs": []
    },
    {
      "cell_type": "code",
      "metadata": {
        "id": "xGoDIbcit9uZ"
      },
      "source": [
        "def fn(x):\n",
        " return m*x+b"
      ],
      "execution_count": null,
      "outputs": []
    },
    {
      "cell_type": "markdown",
      "metadata": {
        "id": "1ZV513MKt9uZ"
      },
      "source": [
        "Compute the slope (m) in one line"
      ]
    },
    {
      "cell_type": "code",
      "metadata": {
        "id": "FJf3mHs2t9uZ",
        "colab": {
          "base_uri": "https://localhost:8080/",
          "height": 282
        },
        "outputId": "d376a648-e0ba-4d03-ddec-43b8fa1ab588"
      },
      "source": [
        "vec = np.arange(10)\n",
        "plt.scatter(x,y)\n",
        "plt.plot(vec,fn(vec))"
      ],
      "execution_count": null,
      "outputs": [
        {
          "output_type": "execute_result",
          "data": {
            "text/plain": [
              "[<matplotlib.lines.Line2D at 0x7f939dc6afd0>]"
            ]
          },
          "metadata": {
            "tags": []
          },
          "execution_count": 19
        },
        {
          "output_type": "display_data",
          "data": {
            "image/png": "[encoded data removed]",
            "text/plain": [
              "<Figure size 432x288 with 1 Axes>"
            ]
          },
          "metadata": {
            "tags": [],
            "needs_background": "light"
          }
        }
      ]
    },
    {
      "cell_type": "code",
      "metadata": {
        "id": "2b9Rg40kt9uZ"
      },
      "source": [
        ""
      ],
      "execution_count": null,
      "outputs": []
    },
    {
      "cell_type": "markdown",
      "metadata": {
        "id": "81bKu8R4t9uZ"
      },
      "source": [
        "Compute b"
      ]
    },
    {
      "cell_type": "code",
      "metadata": {
        "id": "LENcZJIit9uZ"
      },
      "source": [
        ""
      ],
      "execution_count": null,
      "outputs": []
    },
    {
      "cell_type": "code",
      "metadata": {
        "id": "z6TUVlLzt9uZ"
      },
      "source": [
        ""
      ],
      "execution_count": null,
      "outputs": []
    },
    {
      "cell_type": "markdown",
      "metadata": {
        "id": "ZuOC8rGpt9uZ"
      },
      "source": [
        "Write a function fn - F(x)"
      ]
    },
    {
      "cell_type": "code",
      "metadata": {
        "id": "ogRZnzLKt9uZ"
      },
      "source": [
        ""
      ],
      "execution_count": null,
      "outputs": []
    },
    {
      "cell_type": "markdown",
      "metadata": {
        "id": "3Xt5zzfbt9uZ"
      },
      "source": [
        "Draw graph to see the result, combine the scatter and the regression line"
      ]
    },
    {
      "cell_type": "code",
      "metadata": {
        "scrolled": true,
        "id": "oLMKLG1et9uZ"
      },
      "source": [
        ""
      ],
      "execution_count": null,
      "outputs": []
    },
    {
      "cell_type": "markdown",
      "metadata": {
        "id": "l5Bra1aVt9uZ"
      },
      "source": [
        "Write a function to generate linear regression model based on 2 vectors\n",
        "<br/>\n",
        "use a closure to generate a function dynamically"
      ]
    },
    {
      "cell_type": "code",
      "metadata": {
        "id": "sbBCu_g0t9uZ"
      },
      "source": [
        ""
      ],
      "execution_count": null,
      "outputs": []
    },
    {
      "cell_type": "markdown",
      "metadata": {
        "id": "h5J6hVcyt9uZ"
      },
      "source": [
        "Test your function"
      ]
    },
    {
      "cell_type": "code",
      "metadata": {
        "id": "NewknmaBt9uZ"
      },
      "source": [
        ""
      ],
      "execution_count": null,
      "outputs": []
    },
    {
      "cell_type": "code",
      "metadata": {
        "id": "i6rq9PSFt9uZ"
      },
      "source": [
        ""
      ],
      "execution_count": null,
      "outputs": []
    },
    {
      "cell_type": "markdown",
      "metadata": {
        "id": "3f9xumPLt9uZ"
      },
      "source": [
        "Use linear algebra package from numpy to do the same task"
      ]
    },
    {
      "cell_type": "code",
      "metadata": {
        "id": "C7XwqpD_t9uZ"
      },
      "source": [
        ""
      ],
      "execution_count": null,
      "outputs": []
    },
    {
      "cell_type": "markdown",
      "metadata": {
        "id": "aqcRdJlySlTm"
      },
      "source": [
        "כאשר חסרים לי נתונים בגרף לפי שאני יזהה את התלות הלינארית אוכל ללמוד את הערכים החסרים מהתלות"
      ]
    },
    {
      "cell_type": "code",
      "metadata": {
        "id": "axBhmc9u_Foa"
      },
      "source": [
        ""
      ],
      "execution_count": null,
      "outputs": []
    }
  ]
}