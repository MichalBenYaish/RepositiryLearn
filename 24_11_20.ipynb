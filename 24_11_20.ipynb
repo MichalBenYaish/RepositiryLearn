{
  "nbformat": 4,
  "nbformat_minor": 0,
  "metadata": {
    "kernelspec": {
      "display_name": "Python 3",
      "language": "python",
      "name": "python3"
    },
    "language_info": {
      "codemirror_mode": {
        "name": "ipython",
        "version": 3
      },
      "file_extension": ".py",
      "mimetype": "text/x-python",
      "name": "python",
      "nbconvert_exporter": "python",
      "pygments_lexer": "ipython3",
      "version": "3.6.4"
    },
    "colab": {
      "name": "24_11_20.ipynb",
      "provenance": [],
      "collapsed_sections": [],
      "include_colab_link": true
    }
  },
  "cells": [
    {
      "cell_type": "markdown",
      "metadata": {
        "id": "view-in-github",
        "colab_type": "text"
      },
      "source": [
        "<a href=\"https://colab.research.google.com/github/MichalBenYaish/RepositiryLearn/blob/main/24_11_20.ipynb\" target=\"_parent\"><img src=\"https://colab.research.google.com/assets/colab-badge.svg\" alt=\"Open In Colab\"/></a>"
      ]
    },
    {
      "cell_type": "markdown",
      "metadata": {
        "id": "FytPev0hkb01"
      },
      "source": [
        "# NumPy Labs\n"
      ]
    },
    {
      "cell_type": "code",
      "metadata": {
        "id": "_fzFNBDykb01"
      },
      "source": [
        "import numpy as np\n",
        "import pylab as plt\n",
        "%matplotlib inline"
      ],
      "execution_count": null,
      "outputs": []
    },
    {
      "cell_type": "markdown",
      "metadata": {
        "id": "PiLZK50-kb02"
      },
      "source": [
        "Create an array of 10 zeros\n"
      ]
    },
    {
      "cell_type": "code",
      "metadata": {
        "id": "TteUCXUZkb02",
        "colab": {
          "base_uri": "https://localhost:8080/"
        },
        "outputId": "45772512-f2bd-4117-bccb-8da32ab86f3f"
      },
      "source": [
        "np.zeros(10)"
      ],
      "execution_count": null,
      "outputs": [
        {
          "output_type": "execute_result",
          "data": {
            "text/plain": [
              "array([0., 0., 0., 0., 0., 0., 0., 0., 0., 0.])"
            ]
          },
          "metadata": {
            "tags": []
          },
          "execution_count": 7
        }
      ]
    },
    {
      "cell_type": "markdown",
      "metadata": {
        "id": "dgaoEj0nkb02"
      },
      "source": [
        "Create an array of 10 ones"
      ]
    },
    {
      "cell_type": "code",
      "metadata": {
        "id": "7I1T8nBikb02",
        "colab": {
          "base_uri": "https://localhost:8080/"
        },
        "outputId": "eca84e3a-bc36-45bb-e6c4-514c608ef173"
      },
      "source": [
        "np.ones(10)"
      ],
      "execution_count": null,
      "outputs": [
        {
          "output_type": "execute_result",
          "data": {
            "text/plain": [
              "array([1., 1., 1., 1., 1., 1., 1., 1., 1., 1.])"
            ]
          },
          "metadata": {
            "tags": []
          },
          "execution_count": 8
        }
      ]
    },
    {
      "cell_type": "markdown",
      "metadata": {
        "id": "-WNCadmJkb02"
      },
      "source": [
        "Create an array of 10 fives"
      ]
    },
    {
      "cell_type": "code",
      "metadata": {
        "id": "WJ8vMmuEkb02",
        "colab": {
          "base_uri": "https://localhost:8080/"
        },
        "outputId": "3589183d-ddf8-4cd7-c947-a9a7d811c8c8"
      },
      "source": [
        "np.ones(10)*5"
      ],
      "execution_count": null,
      "outputs": [
        {
          "output_type": "execute_result",
          "data": {
            "text/plain": [
              "array([5., 5., 5., 5., 5., 5., 5., 5., 5., 5.])"
            ]
          },
          "metadata": {
            "tags": []
          },
          "execution_count": 10
        }
      ]
    },
    {
      "cell_type": "markdown",
      "metadata": {
        "id": "6xseb_idkb02"
      },
      "source": [
        "Create an array of the integers from 10 to 50"
      ]
    },
    {
      "cell_type": "code",
      "metadata": {
        "id": "zSlGi5wVkb02",
        "colab": {
          "base_uri": "https://localhost:8080/"
        },
        "outputId": "ed7a6903-7e0c-4112-fdc7-663a7fb0b9a2"
      },
      "source": [
        " np.arange(10,51,1)"
      ],
      "execution_count": null,
      "outputs": [
        {
          "output_type": "execute_result",
          "data": {
            "text/plain": [
              "array([10, 11, 12, 13, 14, 15, 16, 17, 18, 19, 20, 21, 22, 23, 24, 25, 26,\n",
              "       27, 28, 29, 30, 31, 32, 33, 34, 35, 36, 37, 38, 39, 40, 41, 42, 43,\n",
              "       44, 45, 46, 47, 48, 49, 50])"
            ]
          },
          "metadata": {
            "tags": []
          },
          "execution_count": 12
        }
      ]
    },
    {
      "cell_type": "markdown",
      "metadata": {
        "id": "qDxPWbsjkb02"
      },
      "source": [
        "Create an array of all the even integers from 10 to 50"
      ]
    },
    {
      "cell_type": "code",
      "metadata": {
        "id": "p8XNpjzBkb02",
        "colab": {
          "base_uri": "https://localhost:8080/"
        },
        "outputId": "198b62fc-6a25-4c23-9ea0-74d3dd18802b"
      },
      "source": [
        "np.arange(10,51,1)"
      ],
      "execution_count": null,
      "outputs": [
        {
          "output_type": "execute_result",
          "data": {
            "text/plain": [
              "array([10, 11, 12, 13, 14, 15, 16, 17, 18, 19, 20, 21, 22, 23, 24, 25, 26,\n",
              "       27, 28, 29, 30, 31, 32, 33, 34, 35, 36, 37, 38, 39, 40, 41, 42, 43,\n",
              "       44, 45, 46, 47, 48, 49, 50])"
            ]
          },
          "metadata": {
            "tags": []
          },
          "execution_count": 13
        }
      ]
    },
    {
      "cell_type": "markdown",
      "metadata": {
        "id": "sf6nBLhjkb02"
      },
      "source": [
        "Create a 3x3 matrix with values ranging from 0 to 8"
      ]
    },
    {
      "cell_type": "code",
      "metadata": {
        "id": "Nvp-mHPKkb02",
        "colab": {
          "base_uri": "https://localhost:8080/"
        },
        "outputId": "8d8c0b1b-5758-408f-b075-c5a73734247a"
      },
      "source": [
        "np.random.random_integers(0,8,(3,3))"
      ],
      "execution_count": null,
      "outputs": [
        {
          "output_type": "stream",
          "text": [
            "/usr/local/lib/python3.6/dist-packages/ipykernel_launcher.py:1: DeprecationWarning: This function is deprecated. Please call randint(0, 8 + 1) instead\n",
            "  \"\"\"Entry point for launching an IPython kernel.\n"
          ],
          "name": "stderr"
        },
        {
          "output_type": "execute_result",
          "data": {
            "text/plain": [
              "array([[7, 4, 6],\n",
              "       [0, 3, 2],\n",
              "       [4, 6, 4]])"
            ]
          },
          "metadata": {
            "tags": []
          },
          "execution_count": 16
        }
      ]
    },
    {
      "cell_type": "markdown",
      "metadata": {
        "id": "vzvqcLeEkb02"
      },
      "source": [
        "Create a 3x3 identity matrix"
      ]
    },
    {
      "cell_type": "code",
      "metadata": {
        "id": "C9Obhiq1kb02",
        "colab": {
          "base_uri": "https://localhost:8080/"
        },
        "outputId": "00800e06-4a36-4b89-e5ba-90a844919eae"
      },
      "source": [
        "np.identity(3)"
      ],
      "execution_count": null,
      "outputs": [
        {
          "output_type": "execute_result",
          "data": {
            "text/plain": [
              "array([[1., 0., 0.],\n",
              "       [0., 1., 0.],\n",
              "       [0., 0., 1.]])"
            ]
          },
          "metadata": {
            "tags": []
          },
          "execution_count": 19
        }
      ]
    },
    {
      "cell_type": "markdown",
      "metadata": {
        "id": "aA4j-sB6kb02"
      },
      "source": [
        "Use NumPy to generate a random number between 0 and 1"
      ]
    },
    {
      "cell_type": "code",
      "metadata": {
        "id": "8dTcLugWkb02",
        "colab": {
          "base_uri": "https://localhost:8080/"
        },
        "outputId": "864a0dac-7b36-4d22-dc7c-2213d143a497"
      },
      "source": [
        "np.random.normal(0,1,1)"
      ],
      "execution_count": null,
      "outputs": [
        {
          "output_type": "execute_result",
          "data": {
            "text/plain": [
              "array([2.12905819])"
            ]
          },
          "metadata": {
            "tags": []
          },
          "execution_count": 22
        }
      ]
    },
    {
      "cell_type": "markdown",
      "metadata": {
        "id": "6yhNscShkb02"
      },
      "source": [
        "Use NumPy to generate an array of 25 random numbers sampled from a standard normal distribution"
      ]
    },
    {
      "cell_type": "code",
      "metadata": {
        "id": "Xovy0Wtdkb03",
        "colab": {
          "base_uri": "https://localhost:8080/"
        },
        "outputId": "1a84825d-c5b3-4489-968d-4e11c2759cb8"
      },
      "source": [
        "np.random.standard_normal(25)"
      ],
      "execution_count": null,
      "outputs": [
        {
          "output_type": "execute_result",
          "data": {
            "text/plain": [
              "array([-0.88476378, -0.61419753, -0.51083594, -0.07311567, -0.27674182,\n",
              "        0.65644287, -2.21827889, -0.7138274 , -0.60964653,  0.69638046,\n",
              "       -0.08856237, -0.03466848, -0.70669954,  0.23838916,  0.12269055,\n",
              "        0.93675088,  0.32710852, -0.21129883,  1.47616337, -1.12422878,\n",
              "        0.20164405,  1.99211749, -0.59211454, -0.61179528, -0.47412454])"
            ]
          },
          "metadata": {
            "tags": []
          },
          "execution_count": 23
        }
      ]
    },
    {
      "cell_type": "markdown",
      "metadata": {
        "id": "Hh9ONQ2_kb03"
      },
      "source": [
        "Create the following matrix"
      ]
    },
    {
      "cell_type": "code",
      "metadata": {
        "id": "OGpVWAvLkb03",
        "colab": {
          "base_uri": "https://localhost:8080/"
        },
        "outputId": "890a24d1-7c4a-4ec0-89c3-61667fdad426"
      },
      "source": [
        "np.arange(0.01,1,0.01)"
      ],
      "execution_count": null,
      "outputs": [
        {
          "output_type": "execute_result",
          "data": {
            "text/plain": [
              "array([0.01, 0.02, 0.03, 0.04, 0.05, 0.06, 0.07, 0.08, 0.09, 0.1 , 0.11,\n",
              "       0.12, 0.13, 0.14, 0.15, 0.16, 0.17, 0.18, 0.19, 0.2 , 0.21, 0.22,\n",
              "       0.23, 0.24, 0.25, 0.26, 0.27, 0.28, 0.29, 0.3 , 0.31, 0.32, 0.33,\n",
              "       0.34, 0.35, 0.36, 0.37, 0.38, 0.39, 0.4 , 0.41, 0.42, 0.43, 0.44,\n",
              "       0.45, 0.46, 0.47, 0.48, 0.49, 0.5 , 0.51, 0.52, 0.53, 0.54, 0.55,\n",
              "       0.56, 0.57, 0.58, 0.59, 0.6 , 0.61, 0.62, 0.63, 0.64, 0.65, 0.66,\n",
              "       0.67, 0.68, 0.69, 0.7 , 0.71, 0.72, 0.73, 0.74, 0.75, 0.76, 0.77,\n",
              "       0.78, 0.79, 0.8 , 0.81, 0.82, 0.83, 0.84, 0.85, 0.86, 0.87, 0.88,\n",
              "       0.89, 0.9 , 0.91, 0.92, 0.93, 0.94, 0.95, 0.96, 0.97, 0.98, 0.99])"
            ]
          },
          "metadata": {
            "tags": []
          },
          "execution_count": 24
        }
      ]
    },
    {
      "cell_type": "markdown",
      "metadata": {
        "id": "JEL_Lbx7kb04"
      },
      "source": [
        "Create an array of 20 linearly spaced points between 0 and 1"
      ]
    },
    {
      "cell_type": "code",
      "metadata": {
        "id": "wNRE_MARkb04",
        "colab": {
          "base_uri": "https://localhost:8080/"
        },
        "outputId": "f3fd2de6-65bc-4ac1-f6ae-79a09cf9c593"
      },
      "source": [
        "np.linspace(0,1,20)"
      ],
      "execution_count": null,
      "outputs": [
        {
          "output_type": "execute_result",
          "data": {
            "text/plain": [
              "array([0.        , 0.05263158, 0.10526316, 0.15789474, 0.21052632,\n",
              "       0.26315789, 0.31578947, 0.36842105, 0.42105263, 0.47368421,\n",
              "       0.52631579, 0.57894737, 0.63157895, 0.68421053, 0.73684211,\n",
              "       0.78947368, 0.84210526, 0.89473684, 0.94736842, 1.        ])"
            ]
          },
          "metadata": {
            "tags": []
          },
          "execution_count": 20
        }
      ]
    },
    {
      "cell_type": "markdown",
      "metadata": {
        "id": "p8FibaK2kb04"
      },
      "source": [
        "Write a function that takes as input a 2-D ndarray and scales the last row and column by 2"
      ]
    },
    {
      "cell_type": "code",
      "metadata": {
        "id": "yOsZ4uOokb04",
        "colab": {
          "base_uri": "https://localhost:8080/"
        },
        "outputId": "7c4d1170-5603-4d31-efdf-9250e2bb2980"
      },
      "source": [
        "def scale(A):\n",
        "  A[-1, :] *= 2\n",
        "  A[:, -1]*=2\n",
        "\n",
        "M = np.array([[1, 2], [3, 4]])\n",
        "scale(M)\n",
        "print (M)\n",
        "\n",
        " \n",
        "\n",
        " \n"
      ],
      "execution_count": null,
      "outputs": [
        {
          "output_type": "stream",
          "text": [
            "[[ 1  4]\n",
            " [ 6 16]]\n"
          ],
          "name": "stdout"
        }
      ]
    },
    {
      "cell_type": "markdown",
      "metadata": {
        "id": "SBdae6vGkb04"
      },
      "source": [
        "Create a numpy array with 100 numbers from 1 to 20. You are not allowed to use any loop"
      ]
    },
    {
      "cell_type": "code",
      "metadata": {
        "id": "uBvXi2Pdkb04",
        "colab": {
          "base_uri": "https://localhost:8080/"
        },
        "outputId": "b22409c5-65aa-48ce-e8c6-2a5f744ff5bc"
      },
      "source": [
        "b=np.linspace(1,20,100)\n",
        "b"
      ],
      "execution_count": null,
      "outputs": [
        {
          "output_type": "execute_result",
          "data": {
            "text/plain": [
              "array([ 1.        ,  1.19191919,  1.38383838,  1.57575758,  1.76767677,\n",
              "        1.95959596,  2.15151515,  2.34343434,  2.53535354,  2.72727273,\n",
              "        2.91919192,  3.11111111,  3.3030303 ,  3.49494949,  3.68686869,\n",
              "        3.87878788,  4.07070707,  4.26262626,  4.45454545,  4.64646465,\n",
              "        4.83838384,  5.03030303,  5.22222222,  5.41414141,  5.60606061,\n",
              "        5.7979798 ,  5.98989899,  6.18181818,  6.37373737,  6.56565657,\n",
              "        6.75757576,  6.94949495,  7.14141414,  7.33333333,  7.52525253,\n",
              "        7.71717172,  7.90909091,  8.1010101 ,  8.29292929,  8.48484848,\n",
              "        8.67676768,  8.86868687,  9.06060606,  9.25252525,  9.44444444,\n",
              "        9.63636364,  9.82828283, 10.02020202, 10.21212121, 10.4040404 ,\n",
              "       10.5959596 , 10.78787879, 10.97979798, 11.17171717, 11.36363636,\n",
              "       11.55555556, 11.74747475, 11.93939394, 12.13131313, 12.32323232,\n",
              "       12.51515152, 12.70707071, 12.8989899 , 13.09090909, 13.28282828,\n",
              "       13.47474747, 13.66666667, 13.85858586, 14.05050505, 14.24242424,\n",
              "       14.43434343, 14.62626263, 14.81818182, 15.01010101, 15.2020202 ,\n",
              "       15.39393939, 15.58585859, 15.77777778, 15.96969697, 16.16161616,\n",
              "       16.35353535, 16.54545455, 16.73737374, 16.92929293, 17.12121212,\n",
              "       17.31313131, 17.50505051, 17.6969697 , 17.88888889, 18.08080808,\n",
              "       18.27272727, 18.46464646, 18.65656566, 18.84848485, 19.04040404,\n",
              "       19.23232323, 19.42424242, 19.61616162, 19.80808081, 20.        ])"
            ]
          },
          "metadata": {
            "tags": []
          },
          "execution_count": 67
        }
      ]
    },
    {
      "cell_type": "markdown",
      "metadata": {
        "id": "BX3bG8TMkb04"
      },
      "source": [
        "Create a numpy array containing the sine of the numbers from the above array. "
      ]
    },
    {
      "cell_type": "code",
      "metadata": {
        "id": "oqdpCHD4kb05",
        "colab": {
          "base_uri": "https://localhost:8080/"
        },
        "outputId": "ca776cf1-c580-4ee1-afd2-45e3399f146b"
      },
      "source": [
        "np.sin(b)"
      ],
      "execution_count": null,
      "outputs": [
        {
          "output_type": "execute_result",
          "data": {
            "text/plain": [
              "array([ 0.84147098,  0.92908054,  0.98257421,  0.99998769,  0.98068157,\n",
              "        0.92536476,  0.8360685 ,  0.71607176,  0.56978082,  0.40256749,\n",
              "        0.22057186,  0.03047682, -0.16073733, -0.34604919, -0.51865411,\n",
              "       -0.67221402, -0.8010902 , -0.90055029, -0.96694212, -0.99782778,\n",
              "       -0.99207314, -0.94988952, -0.8728259 , -0.76371206, -0.62655467,\n",
              "       -0.46639016, -0.28909977, -0.10119362,  0.09042837,  0.27872982,\n",
              "        0.45679629,  0.61808918,  0.7566858 ,  0.86749687,  0.9464534 ,\n",
              "        0.99065611,  0.99848187,  0.96964331,  0.9051994 ,  0.8075165 ,\n",
              "        0.68018156,  0.52787031,  0.35617562,  0.17140215, -0.01966522,\n",
              "       -0.21001048, -0.39264414, -0.56085989, -0.70848083, -0.83008631,\n",
              "       -0.92121097, -0.97850871, -0.99987556, -0.98452691, -0.93302638,\n",
              "       -0.84726506, -0.73039212, -0.58669914, -0.42146253, -0.24074979,\n",
              "       -0.05119671,  0.14023632,  0.32651987,  0.50081358,  0.6567174 ,\n",
              "        0.78850651,  0.89134161,  0.9614466 ,  0.99624721,  0.99446556,\n",
              "        0.95616708,  0.88275809,  0.77693417,  0.64258118,  0.48463257,\n",
              "        0.30888823,  0.12180149, -0.06975781, -0.2587556 , -0.43825186,\n",
              "       -0.60165549, -0.7429663 , -0.85699534, -0.93955546, -0.98761505,\n",
              "       -0.99940935, -0.97450528, -0.91381733, -0.81957394, -0.69523575,\n",
              "       -0.54536847, -0.37547522, -0.1917945 , -0.00107107,  0.18969168,\n",
              "        0.37348895,  0.54357168,  0.69369443,  0.81834467,  0.91294525])"
            ]
          },
          "metadata": {
            "tags": []
          },
          "execution_count": 68
        }
      ]
    },
    {
      "cell_type": "code",
      "metadata": {
        "id": "kwbJQo7ZBqIB"
      },
      "source": [
        ""
      ],
      "execution_count": null,
      "outputs": []
    },
    {
      "cell_type": "markdown",
      "metadata": {
        "id": "2oSERsGckb05"
      },
      "source": [
        "Compute the dot product of arrays [1,2,3,4] and [cos(1),cos(2), cos(3)], but first you have to reshape them into  2-dimensional arrays\n"
      ]
    },
    {
      "cell_type": "code",
      "metadata": {
        "id": "Q7ScpwhMkb05",
        "colab": {
          "base_uri": "https://localhost:8080/"
        },
        "outputId": "e114210d-752d-4485-d785-6ecb8379ec42"
      },
      "source": [
        "v = np.arange(1,5)\n",
        "v.shape = (4,1)\n",
        "print(v)\n",
        "t=np.cos(np.arange(1,4))\n",
        "t.shape = (1,3)\n",
        "print(t)\n",
        "np.dot(v,t)"
      ],
      "execution_count": null,
      "outputs": [
        {
          "output_type": "stream",
          "text": [
            "[[1]\n",
            " [2]\n",
            " [3]\n",
            " [4]]\n",
            "[[ 0.54030231 -0.41614684 -0.9899925 ]]\n"
          ],
          "name": "stdout"
        },
        {
          "output_type": "execute_result",
          "data": {
            "text/plain": [
              "array([[ 0.54030231, -0.41614684, -0.9899925 ],\n",
              "       [ 1.08060461, -0.83229367, -1.97998499],\n",
              "       [ 1.62090692, -1.24844051, -2.96997749],\n",
              "       [ 2.16120922, -1.66458735, -3.95996999]])"
            ]
          },
          "metadata": {
            "tags": []
          },
          "execution_count": 82
        }
      ]
    },
    {
      "cell_type": "markdown",
      "metadata": {
        "id": "ry_ghyFRkb05"
      },
      "source": [
        "Create two numpy arrays (3,3)  - A, B\n"
      ]
    },
    {
      "cell_type": "code",
      "metadata": {
        "id": "zXw-Yv7Vkb05"
      },
      "source": [
        "A = np.array([[1,2,3],[4,5,6],[7,8,9]])\n",
        "B = np.array([[12,32,23],[54,25,76],[17,78,39]])"
      ],
      "execution_count": null,
      "outputs": []
    },
    {
      "cell_type": "markdown",
      "metadata": {
        "id": "XvmV6gvpkb05"
      },
      "source": [
        "compute A + B"
      ]
    },
    {
      "cell_type": "code",
      "metadata": {
        "id": "lOndCJBOkb05",
        "colab": {
          "base_uri": "https://localhost:8080/"
        },
        "outputId": "8c50228c-d113-44b2-d999-cf16b4a8665e"
      },
      "source": [
        "A+B"
      ],
      "execution_count": null,
      "outputs": [
        {
          "output_type": "execute_result",
          "data": {
            "text/plain": [
              "array([[13, 34, 26],\n",
              "       [58, 30, 82],\n",
              "       [24, 86, 48]])"
            ]
          },
          "metadata": {
            "tags": []
          },
          "execution_count": 84
        }
      ]
    },
    {
      "cell_type": "markdown",
      "metadata": {
        "id": "p7qm8udvkb05"
      },
      "source": [
        "compute 3A + B"
      ]
    },
    {
      "cell_type": "code",
      "metadata": {
        "id": "uPsjyxIBkb05",
        "colab": {
          "base_uri": "https://localhost:8080/"
        },
        "outputId": "054c81a2-a0f1-4a8d-a668-3bebb188377d"
      },
      "source": [
        "3*A + B"
      ],
      "execution_count": null,
      "outputs": [
        {
          "output_type": "execute_result",
          "data": {
            "text/plain": [
              "array([[ 15,  38,  32],\n",
              "       [ 66,  40,  94],\n",
              "       [ 38, 102,  66]])"
            ]
          },
          "metadata": {
            "tags": []
          },
          "execution_count": 86
        }
      ]
    },
    {
      "cell_type": "markdown",
      "metadata": {
        "id": "S7jyKE2rkb05"
      },
      "source": [
        "Find the maximum and the minimum of B"
      ]
    },
    {
      "cell_type": "code",
      "metadata": {
        "id": "syvKoAW8kb05",
        "colab": {
          "base_uri": "https://localhost:8080/"
        },
        "outputId": "e925aade-a213-4b14-c1e3-03328a94ec88"
      },
      "source": [
        "print(np.max(B))\n",
        "np.min(B)"
      ],
      "execution_count": null,
      "outputs": [
        {
          "output_type": "stream",
          "text": [
            "78\n"
          ],
          "name": "stdout"
        },
        {
          "output_type": "execute_result",
          "data": {
            "text/plain": [
              "12"
            ]
          },
          "metadata": {
            "tags": []
          },
          "execution_count": 90
        }
      ]
    },
    {
      "cell_type": "markdown",
      "metadata": {
        "id": "4mMY857hkb05"
      },
      "source": [
        "Normalize the matrix B by adding a constant c that makes its minimum be equal to 0"
      ]
    },
    {
      "cell_type": "code",
      "metadata": {
        "id": "A0v4O_aUkb05",
        "colab": {
          "base_uri": "https://localhost:8080/"
        },
        "outputId": "3e20622c-d2b5-485f-a525-c6c0bef428bc"
      },
      "source": [
        "yy = B-np.min(B)\n",
        "\n",
        "print(yy)\n"
      ],
      "execution_count": null,
      "outputs": [
        {
          "output_type": "stream",
          "text": [
            "[[ 0 20 11]\n",
            " [42 13 64]\n",
            " [ 5 66 27]]\n"
          ],
          "name": "stdout"
        },
        {
          "output_type": "execute_result",
          "data": {
            "text/plain": [
              "array([[   0, 1080,  187],\n",
              "       [1344,  325, 4992],\n",
              "       [ 115, 5016, 1053]])"
            ]
          },
          "metadata": {
            "tags": []
          },
          "execution_count": 98
        }
      ]
    },
    {
      "cell_type": "markdown",
      "metadata": {
        "id": "-5fr5Wq3kb05"
      },
      "source": [
        "Compute the sum of the elements in A"
      ]
    },
    {
      "cell_type": "code",
      "metadata": {
        "id": "cAyx5GvVkb05",
        "colab": {
          "base_uri": "https://localhost:8080/"
        },
        "outputId": "3a8a3c0f-9c5d-49e6-8cf3-b4cb944c7519"
      },
      "source": [
        "A.sum()"
      ],
      "execution_count": null,
      "outputs": [
        {
          "output_type": "execute_result",
          "data": {
            "text/plain": [
              "45"
            ]
          },
          "metadata": {
            "tags": []
          },
          "execution_count": 91
        }
      ]
    },
    {
      "cell_type": "markdown",
      "metadata": {
        "id": "08ksuvEmkb06"
      },
      "source": [
        "Compute the transpose of A"
      ]
    },
    {
      "cell_type": "code",
      "metadata": {
        "id": "dqwQW0Lqkb06",
        "colab": {
          "base_uri": "https://localhost:8080/"
        },
        "outputId": "938e644a-4b97-434d-ccb9-3e657d88bd99"
      },
      "source": [
        "A.T"
      ],
      "execution_count": null,
      "outputs": [
        {
          "output_type": "execute_result",
          "data": {
            "text/plain": [
              "array([[1, 4, 7],\n",
              "       [2, 5, 8],\n",
              "       [3, 6, 9]])"
            ]
          },
          "metadata": {
            "tags": []
          },
          "execution_count": 105
        }
      ]
    },
    {
      "cell_type": "markdown",
      "metadata": {
        "id": "f5_0d4eakb06"
      },
      "source": [
        "Compute the inverse of A. Use numpy.linalg"
      ]
    },
    {
      "cell_type": "code",
      "metadata": {
        "id": "GynKp2S7kb06",
        "colab": {
          "base_uri": "https://localhost:8080/"
        },
        "outputId": "f839e710-67b6-40ec-88a7-c60ce2016607"
      },
      "source": [
        "np.linalg.inv([[1,-1,-2],\n",
        "               [2,-3,-5],\n",
        "               [-1,3,5]])"
      ],
      "execution_count": null,
      "outputs": [
        {
          "output_type": "execute_result",
          "data": {
            "text/plain": [
              "array([[-4.4408921e-16,  1.0000000e+00,  1.0000000e+00],\n",
              "       [ 5.0000000e+00, -3.0000000e+00, -1.0000000e+00],\n",
              "       [-3.0000000e+00,  2.0000000e+00,  1.0000000e+00]])"
            ]
          },
          "metadata": {
            "tags": []
          },
          "execution_count": 107
        }
      ]
    },
    {
      "cell_type": "markdown",
      "metadata": {
        "id": "nBDpIOIfkb06"
      },
      "source": [
        "Compute the determinant of A"
      ]
    },
    {
      "cell_type": "code",
      "metadata": {
        "id": "g1x4rSBDkb06",
        "colab": {
          "base_uri": "https://localhost:8080/"
        },
        "outputId": "7eb014f7-c9d3-4db0-aaa1-ff063b418f4e"
      },
      "source": [
        "np.linalg.det(A)"
      ],
      "execution_count": null,
      "outputs": [
        {
          "output_type": "execute_result",
          "data": {
            "text/plain": [
              "0.0"
            ]
          },
          "metadata": {
            "tags": []
          },
          "execution_count": 102
        }
      ]
    },
    {
      "cell_type": "markdown",
      "metadata": {
        "id": "mN-52vmCkb06"
      },
      "source": [
        "Solve the following equations:<br>\n",
        "    X  + 2Y = 3<br/>\n",
        "    3X + 4Y = 0"
      ]
    },
    {
      "cell_type": "code",
      "metadata": {
        "id": "75Jc00Ogkb06",
        "colab": {
          "base_uri": "https://localhost:8080/"
        },
        "outputId": "54a359d5-01fa-4ef3-8453-f97fecddaa72"
      },
      "source": [
        "\n",
        "\n",
        "np.linalg.solve(np.array([[1,2],[3,4]]),np.array([3,0]))"
      ],
      "execution_count": null,
      "outputs": [
        {
          "output_type": "execute_result",
          "data": {
            "text/plain": [
              "array([-6. ,  4.5])"
            ]
          },
          "metadata": {
            "tags": []
          },
          "execution_count": 108
        }
      ]
    }
  ]
}