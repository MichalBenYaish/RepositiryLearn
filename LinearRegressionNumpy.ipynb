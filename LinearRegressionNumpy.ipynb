{
  "nbformat": 4,
  "nbformat_minor": 0,
  "metadata": {
    "kernelspec": {
      "display_name": "Python 3",
      "language": "python",
      "name": "python3"
    },
    "language_info": {
      "codemirror_mode": {
        "name": "ipython",
        "version": 3
      },
      "file_extension": ".py",
      "mimetype": "text/x-python",
      "name": "python",
      "nbconvert_exporter": "python",
      "pygments_lexer": "ipython3",
      "version": "3.8.3"
    },
    "colab": {
      "name": "LinearRegressionNumpy.ipynb",
      "provenance": [],
      "include_colab_link": true
    }
  },
  "cells": [
    {
      "cell_type": "markdown",
      "metadata": {
        "id": "view-in-github",
        "colab_type": "text"
      },
      "source": [
        "<a href=\"https://colab.research.google.com/github/MichalBenYaish/RepositiryLearn/blob/main/LinearRegressionNumpy.ipynb\" target=\"_parent\"><img src=\"https://colab.research.google.com/assets/colab-badge.svg\" alt=\"Open In Colab\"/></a>"
      ]
    },
    {
      "cell_type": "markdown",
      "metadata": {
        "id": "KUzEdMyg8Y25"
      },
      "source": [
        "# Least Squares Regression"
      ]
    },
    {
      "cell_type": "code",
      "metadata": {
        "id": "I0Fx1p_z8Y28"
      },
      "source": [
        "import numpy as np\n",
        "import matplotlib.pylab as plt"
      ],
      "execution_count": null,
      "outputs": []
    },
    {
      "cell_type": "code",
      "metadata": {
        "id": "-GotM5tY8Y29"
      },
      "source": [
        "x = np.array([1,2,3,4,5,6,7,8])\n",
        "y = np.array([15,32,66,45,90,153,170,200])"
      ],
      "execution_count": null,
      "outputs": []
    },
    {
      "cell_type": "code",
      "metadata": {
        "id": "wcCw9VU58Y29"
      },
      "source": [
        "x = np.array([0.1,0.2,0.3,0.4,0.5,0.6,0.7,0.8])\n",
        "y = np.array([0.015,0.032,0.066,0.045,0.090,0.153,0.170,0.200])\n"
      ],
      "execution_count": null,
      "outputs": []
    },
    {
      "cell_type": "code",
      "metadata": {
        "scrolled": true,
        "id": "QgbGYoL18Y2-",
        "outputId": "e695c46c-94e7-442f-f5ed-890ac0ace9ae"
      },
      "source": [
        "plt.scatter(x,y)"
      ],
      "execution_count": null,
      "outputs": [
        {
          "output_type": "execute_result",
          "data": {
            "text/plain": [
              "<matplotlib.collections.PathCollection at 0x7f9f302c58e0>"
            ]
          },
          "metadata": {
            "tags": []
          },
          "execution_count": 3
        },
        {
          "output_type": "display_data",
          "data": {
            "image/png": "[encoded data removed]",
            "text/plain": [
              "<Figure size 432x288 with 1 Axes>"
            ]
          },
          "metadata": {
            "tags": [],
            "needs_background": "light"
          }
        }
      ]
    },
    {
      "cell_type": "markdown",
      "metadata": {
        "id": "TjwMA-SP8Y2_"
      },
      "source": [
        "# Y = mX + b"
      ]
    },
    {
      "cell_type": "markdown",
      "metadata": {
        "id": "U2IUjr1A8Y2_"
      },
      "source": [
        "## $m = \\frac{N * \\sum (xy) - \\sum (x)\\sum (y)}{N * \\sum X^{2}-(\\sum x)^{2}}$"
      ]
    },
    {
      "cell_type": "markdown",
      "metadata": {
        "id": "FWutjtbF8Y3A"
      },
      "source": [
        "## $b = \\frac{\\sum y - m\\sum x}{N}$"
      ]
    },
    {
      "cell_type": "markdown",
      "metadata": {
        "id": "-7U4h8GR8Y3A"
      },
      "source": [
        "Compute all the elements"
      ]
    },
    {
      "cell_type": "code",
      "metadata": {
        "id": "STQQhRrt8Y3B",
        "outputId": "5d1ecddb-7730-4daa-8c1a-8134e5c2f5de"
      },
      "source": [
        "x*x"
      ],
      "execution_count": null,
      "outputs": [
        {
          "output_type": "execute_result",
          "data": {
            "text/plain": [
              "array([0.01, 0.04, 0.09, 0.16, 0.25, 0.36, 0.49, 0.64])"
            ]
          },
          "metadata": {
            "tags": []
          },
          "execution_count": 4
        }
      ]
    },
    {
      "cell_type": "code",
      "metadata": {
        "id": "BaubJBQE8Y3C",
        "outputId": "2bc725be-a147-4d3b-8bfd-1a992ad7da37"
      },
      "source": [
        "x*y"
      ],
      "execution_count": null,
      "outputs": [
        {
          "output_type": "execute_result",
          "data": {
            "text/plain": [
              "array([0.0015, 0.0064, 0.0198, 0.018 , 0.045 , 0.0918, 0.119 , 0.16  ])"
            ]
          },
          "metadata": {
            "tags": []
          },
          "execution_count": 5
        }
      ]
    },
    {
      "cell_type": "code",
      "metadata": {
        "id": "JrvF2D9C8Y3D",
        "outputId": "be0a792c-2fe6-4e12-ae7a-741ed3347e0f"
      },
      "source": [
        "np.sum(x*x)"
      ],
      "execution_count": null,
      "outputs": [
        {
          "output_type": "execute_result",
          "data": {
            "text/plain": [
              "2.04"
            ]
          },
          "metadata": {
            "tags": []
          },
          "execution_count": 6
        }
      ]
    },
    {
      "cell_type": "code",
      "metadata": {
        "id": "9zII_y9L8Y3D",
        "outputId": "9f7aca23-4149-480b-80d1-a2e8bed6c710"
      },
      "source": [
        "np.sum(x*y)"
      ],
      "execution_count": null,
      "outputs": [
        {
          "output_type": "execute_result",
          "data": {
            "text/plain": [
              "0.4615"
            ]
          },
          "metadata": {
            "tags": []
          },
          "execution_count": 7
        }
      ]
    },
    {
      "cell_type": "markdown",
      "metadata": {
        "id": "D4YcJ4iQ8Y3D"
      },
      "source": [
        "Compute the slope (m) in one line"
      ]
    },
    {
      "cell_type": "code",
      "metadata": {
        "id": "dax0pmIX8Y3D"
      },
      "source": [
        "m = (len(x) * np.sum(x*y) - np.sum(x) * np.sum(y)) / \\\n",
        "        (len(x)*np.sum(x*x) - np.sum(x) ** 2)"
      ],
      "execution_count": null,
      "outputs": []
    },
    {
      "cell_type": "code",
      "metadata": {
        "id": "R4sXX1W68Y3E",
        "outputId": "994e9ddc-a83e-4108-bb1f-3a6cd34b2aa7"
      },
      "source": [
        "m"
      ],
      "execution_count": null,
      "outputs": [
        {
          "output_type": "execute_result",
          "data": {
            "text/plain": [
              "0.2727380952380952"
            ]
          },
          "metadata": {
            "tags": []
          },
          "execution_count": 9
        }
      ]
    },
    {
      "cell_type": "markdown",
      "metadata": {
        "id": "85SPTS848Y3E"
      },
      "source": [
        "Compute b"
      ]
    },
    {
      "cell_type": "code",
      "metadata": {
        "id": "JDgjJycM8Y3E"
      },
      "source": [
        "b = (np.sum(y) - m *np.sum(x)) / len(x)"
      ],
      "execution_count": null,
      "outputs": []
    },
    {
      "cell_type": "code",
      "metadata": {
        "id": "C17Ba8wE8Y3E",
        "outputId": "67051efe-ef70-402c-ad88-6c8a2d8a5064"
      },
      "source": [
        "b"
      ],
      "execution_count": null,
      "outputs": [
        {
          "output_type": "execute_result",
          "data": {
            "text/plain": [
              "-0.026357142857142857"
            ]
          },
          "metadata": {
            "tags": []
          },
          "execution_count": 11
        }
      ]
    },
    {
      "cell_type": "markdown",
      "metadata": {
        "id": "aqhjO_p18Y3E"
      },
      "source": [
        "Write a function fn - F(x)"
      ]
    },
    {
      "cell_type": "code",
      "metadata": {
        "id": "bca6wrEG8Y3F"
      },
      "source": [
        "def fn(x):\n",
        "    return 0.27*x - 0.026"
      ],
      "execution_count": null,
      "outputs": []
    },
    {
      "cell_type": "markdown",
      "metadata": {
        "id": "kqqmObGt8Y3F"
      },
      "source": [
        "Draw graph to see the result"
      ]
    },
    {
      "cell_type": "code",
      "metadata": {
        "scrolled": true,
        "id": "K7q2IJKs8Y3F",
        "outputId": "ac0ec7d6-0d24-4fde-8bf0-03bb34548e36"
      },
      "source": [
        "vec = np.arange(10)\n",
        "plt.scatter(x,y)\n",
        "plt.plot(vec,fn(vec))"
      ],
      "execution_count": null,
      "outputs": [
        {
          "output_type": "execute_result",
          "data": {
            "text/plain": [
              "[<matplotlib.lines.Line2D at 0x7f9f388d5a30>]"
            ]
          },
          "metadata": {
            "tags": []
          },
          "execution_count": 15
        },
        {
          "output_type": "display_data",
          "data": {
            "image/png": "[encoded data removed]",
            "text/plain": [
              "<Figure size 432x288 with 1 Axes>"
            ]
          },
          "metadata": {
            "tags": [],
            "needs_background": "light"
          }
        }
      ]
    },
    {
      "cell_type": "markdown",
      "metadata": {
        "id": "tfLubPzh8Y3F"
      },
      "source": [
        "Write a function to generate linear regression model based on 2 vectors\n",
        "<br/>\n",
        "use a closure to generate a function dynamically"
      ]
    },
    {
      "cell_type": "code",
      "metadata": {
        "id": "FVygUdGf8Y3F"
      },
      "source": [
        "def getlinear(x,y):\n",
        "\n",
        "    def inner(x1):\n",
        "        return m * x1 + b\n",
        "    \n",
        "    m = (len(x) * np.sum(x*y) - np.sum(x) * np.sum(y)) / (len(x)*np.sum(x*x) - np.sum(x) * np.sum(x))\n",
        "    b = (np.sum(y) - m *np.sum(x)) / len(x)\n",
        "    return inner"
      ],
      "execution_count": null,
      "outputs": []
    },
    {
      "cell_type": "code",
      "metadata": {
        "id": "Mz4ppGA_8Y3G"
      },
      "source": [
        "myfn = getlinear(x,y)"
      ],
      "execution_count": null,
      "outputs": []
    },
    {
      "cell_type": "code",
      "metadata": {
        "id": "ASP1_cu_8Y3G",
        "outputId": "5ca03ba6-a486-46e5-f798-9a0d46bcd2e5"
      },
      "source": [
        "myfn(4)"
      ],
      "execution_count": null,
      "outputs": [
        {
          "output_type": "execute_result",
          "data": {
            "text/plain": [
              "82"
            ]
          },
          "metadata": {
            "tags": []
          },
          "execution_count": 91
        }
      ]
    },
    {
      "cell_type": "code",
      "metadata": {
        "id": "JmZll8FL8Y3G",
        "outputId": "d0114ae9-0fee-4817-baf1-7cf850cd0e8e"
      },
      "source": [
        "plt.scatter(x,y)\n",
        "plt.plot(x1,myfn(x1))"
      ],
      "execution_count": null,
      "outputs": [
        {
          "output_type": "execute_result",
          "data": {
            "text/plain": [
              "[<matplotlib.lines.Line2D at 0x1168c1c10>]"
            ]
          },
          "metadata": {
            "tags": []
          },
          "execution_count": 92
        },
        {
          "output_type": "display_data",
          "data": {
            "image/png": "[encoded data removed]",
            "text/plain": [
              "<matplotlib.figure.Figure at 0x1168c12d0>"
            ]
          },
          "metadata": {
            "tags": []
          }
        }
      ]
    },
    {
      "cell_type": "markdown",
      "metadata": {
        "id": "iB7HHZAz8Y3G"
      },
      "source": [
        "# 2 vars"
      ]
    },
    {
      "cell_type": "code",
      "metadata": {
        "id": "jhCafhcY8Y3H"
      },
      "source": [
        "X1 = np.array([1,2,3,4,5,6,7,8])\n",
        "X2 = np.array([15,32,66,45,90,153,170,200])"
      ],
      "execution_count": null,
      "outputs": []
    },
    {
      "cell_type": "code",
      "metadata": {
        "id": "m0_73MNB8Y3H"
      },
      "source": [
        "Y = np.array([200,240,350,420,550,670,900,1000])"
      ],
      "execution_count": null,
      "outputs": []
    },
    {
      "cell_type": "markdown",
      "metadata": {
        "id": "4XQeqAqV8Y3H"
      },
      "source": [
        "# F = a + b1X1 + b2X2"
      ]
    },
    {
      "cell_type": "code",
      "metadata": {
        "id": "dZzc5yZm8Y3H"
      },
      "source": [
        "b1 = (np.sum(X2*X2)*np.sum(X1*Y) - np.sum(X1*X2)*np.sum(X2*Y))/ \\\n",
        "        (np.sum(X1*X1)*np.sum(X2*X2)-np.sum(X1*X2)*np.sum(X1*X2))\n",
        "b2 = (np.sum(X1*X1)*np.sum(X2*Y) - np.sum(X1*X2)*np.sum(X1*Y))/ \\\n",
        "        (np.sum(X1*X1)*np.sum(X2*X2)-np.sum(X1*X2)*np.sum(X1*X2))\n"
      ],
      "execution_count": null,
      "outputs": []
    },
    {
      "cell_type": "code",
      "metadata": {
        "id": "_ryqQdku8Y3H",
        "outputId": "915dfc6a-d294-4e2c-8aae-14b3dd9f07db"
      },
      "source": [
        "b1"
      ],
      "execution_count": null,
      "outputs": [
        {
          "output_type": "execute_result",
          "data": {
            "text/plain": [
              "95"
            ]
          },
          "metadata": {
            "tags": []
          },
          "execution_count": 66
        }
      ]
    },
    {
      "cell_type": "code",
      "metadata": {
        "id": "oKJ9Ojlu8Y3I",
        "outputId": "7973d542-48f4-4021-f5b0-bd6c10d92c90"
      },
      "source": [
        "b2"
      ],
      "execution_count": null,
      "outputs": [
        {
          "output_type": "execute_result",
          "data": {
            "text/plain": [
              "1"
            ]
          },
          "metadata": {
            "tags": []
          },
          "execution_count": 67
        }
      ]
    },
    {
      "cell_type": "code",
      "metadata": {
        "id": "CxNxUXW18Y3I"
      },
      "source": [
        "a = np.mean(Y) - b1*np.mean(X1) - b2*np.mean(X2)"
      ],
      "execution_count": null,
      "outputs": []
    },
    {
      "cell_type": "code",
      "metadata": {
        "id": "cym6kneO8Y3I",
        "outputId": "ddcf8157-96af-4d3b-d6ad-0d74e829eea3"
      },
      "source": [
        "a"
      ],
      "execution_count": null,
      "outputs": [
        {
          "output_type": "execute_result",
          "data": {
            "text/plain": [
              "17.375"
            ]
          },
          "metadata": {
            "tags": []
          },
          "execution_count": 57
        }
      ]
    },
    {
      "cell_type": "markdown",
      "metadata": {
        "id": "lyExUL2N8Y3I"
      },
      "source": [
        "### Y = 17.35 + 95X1 + X2"
      ]
    },
    {
      "cell_type": "code",
      "metadata": {
        "id": "aCkmKz9H8Y3I"
      },
      "source": [
        "def f3(x1,x2):\n",
        "    return 17.35 + 95*x1 + x2"
      ],
      "execution_count": null,
      "outputs": []
    },
    {
      "cell_type": "code",
      "metadata": {
        "id": "lm-a0dkj8Y3J",
        "outputId": "e8fb3072-e677-4065-ef7d-9862ce25751c"
      },
      "source": [
        "f3(1,15)"
      ],
      "execution_count": null,
      "outputs": [
        {
          "output_type": "execute_result",
          "data": {
            "text/plain": [
              "127.35"
            ]
          },
          "metadata": {
            "tags": []
          },
          "execution_count": 62
        }
      ]
    },
    {
      "cell_type": "code",
      "metadata": {
        "id": "mJxwaw3I8Y3J",
        "outputId": "fdb77a8e-bfd1-46ba-dd11-0215ba051e7a"
      },
      "source": [
        "from mpl_toolkits.mplot3d import Axes3D\n",
        "fig = plt.figure()\n",
        "ax = fig.add_subplot(111, projection='3d')\n",
        "ax.scatter(X1,X2,Y)"
      ],
      "execution_count": null,
      "outputs": [
        {
          "output_type": "execute_result",
          "data": {
            "text/plain": [
              "<mpl_toolkits.mplot3d.art3d.Path3DCollection at 0x1167499d0>"
            ]
          },
          "metadata": {
            "tags": []
          },
          "execution_count": 63
        },
        {
          "output_type": "display_data",
          "data": {
            "image/png": "[encoded data removed]",
            "text/plain": [
              "<matplotlib.figure.Figure at 0x11656bb50>"
            ]
          },
          "metadata": {
            "tags": []
          }
        }
      ]
    },
    {
      "cell_type": "code",
      "metadata": {
        "id": "GDiRWmBs8Y3J"
      },
      "source": [
        ""
      ],
      "execution_count": null,
      "outputs": []
    }
  ]
}