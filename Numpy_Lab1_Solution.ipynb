{
  "nbformat": 4,
  "nbformat_minor": 0,
  "metadata": {
    "kernelspec": {
      "display_name": "Python 3",
      "language": "python",
      "name": "python3"
    },
    "language_info": {
      "codemirror_mode": {
        "name": "ipython",
        "version": 3
      },
      "file_extension": ".py",
      "mimetype": "text/x-python",
      "name": "python",
      "nbconvert_exporter": "python",
      "pygments_lexer": "ipython3",
      "version": "3.6.4"
    },
    "colab": {
      "name": "Numpy Lab1-Solution.ipynb",
      "provenance": [],
      "collapsed_sections": [],
      "include_colab_link": true
    }
  },
  "cells": [
    {
      "cell_type": "markdown",
      "metadata": {
        "id": "view-in-github",
        "colab_type": "text"
      },
      "source": [
        "<a href=\"https://colab.research.google.com/github/MichalBenYaish/RepositiryLearn/blob/main/Numpy_Lab1_Solution.ipynb\" target=\"_parent\"><img src=\"https://colab.research.google.com/assets/colab-badge.svg\" alt=\"Open In Colab\"/></a>"
      ]
    },
    {
      "cell_type": "markdown",
      "metadata": {
        "id": "bVCx1CpUlHFA"
      },
      "source": [
        "# NumPy Labs\n"
      ]
    },
    {
      "cell_type": "code",
      "metadata": {
        "id": "yic_o5z3lHFB"
      },
      "source": [
        "import numpy as np\n",
        "import pylab\n",
        "%matplotlib inline"
      ],
      "execution_count": null,
      "outputs": []
    },
    {
      "cell_type": "markdown",
      "metadata": {
        "id": "dZ_DHeAvlHFB"
      },
      "source": [
        "Create an array of 10 zeros\n"
      ]
    },
    {
      "cell_type": "code",
      "metadata": {
        "id": "IAyhTVWhlHFB",
        "outputId": "f6b91977-eaa2-4192-e8bf-4dfb45c5ebea"
      },
      "source": [
        "np.zeros(10)"
      ],
      "execution_count": null,
      "outputs": [
        {
          "output_type": "execute_result",
          "data": {
            "text/plain": [
              "array([0., 0., 0., 0., 0., 0., 0., 0., 0., 0.])"
            ]
          },
          "metadata": {
            "tags": []
          },
          "execution_count": 2
        }
      ]
    },
    {
      "cell_type": "markdown",
      "metadata": {
        "id": "zZSSx7JUlHFC"
      },
      "source": [
        "Create an array of 10 ones"
      ]
    },
    {
      "cell_type": "code",
      "metadata": {
        "id": "P-L-8ehclHFC",
        "outputId": "9292f03a-0dcc-45c3-c31a-c971e38e2865"
      },
      "source": [
        "np.ones(10)"
      ],
      "execution_count": null,
      "outputs": [
        {
          "output_type": "execute_result",
          "data": {
            "text/plain": [
              "array([1., 1., 1., 1., 1., 1., 1., 1., 1., 1.])"
            ]
          },
          "metadata": {
            "tags": []
          },
          "execution_count": 3
        }
      ]
    },
    {
      "cell_type": "markdown",
      "metadata": {
        "id": "DnHENai7lHFC"
      },
      "source": [
        "Create an array of 10 fives"
      ]
    },
    {
      "cell_type": "code",
      "metadata": {
        "id": "iNB_jpT4lHFC",
        "outputId": "4715b9a8-3af0-4da2-b6ef-76eaf787053e"
      },
      "source": [
        "np.ones(10)*5\n"
      ],
      "execution_count": null,
      "outputs": [
        {
          "output_type": "execute_result",
          "data": {
            "text/plain": [
              "array([5., 5., 5., 5., 5., 5., 5., 5., 5., 5.])"
            ]
          },
          "metadata": {
            "tags": []
          },
          "execution_count": 4
        }
      ]
    },
    {
      "cell_type": "markdown",
      "metadata": {
        "id": "uXcqy29dlHFC"
      },
      "source": [
        "Create an array of the integers from 10 to 50"
      ]
    },
    {
      "cell_type": "code",
      "metadata": {
        "id": "_7g16qg4lHFC",
        "outputId": "c04d6bad-2e78-4899-d5ec-18d3a305393b"
      },
      "source": [
        "np.arange(10,51)"
      ],
      "execution_count": null,
      "outputs": [
        {
          "output_type": "execute_result",
          "data": {
            "text/plain": [
              "array([10, 11, 12, 13, 14, 15, 16, 17, 18, 19, 20, 21, 22, 23, 24, 25, 26,\n",
              "       27, 28, 29, 30, 31, 32, 33, 34, 35, 36, 37, 38, 39, 40, 41, 42, 43,\n",
              "       44, 45, 46, 47, 48, 49, 50])"
            ]
          },
          "metadata": {
            "tags": []
          },
          "execution_count": 5
        }
      ]
    },
    {
      "cell_type": "markdown",
      "metadata": {
        "id": "rRaVkYjilHFD"
      },
      "source": [
        "Create an array of all the even integers from 10 to 50"
      ]
    },
    {
      "cell_type": "code",
      "metadata": {
        "id": "VH-piOvxlHFD",
        "outputId": "72f3925c-7509-4040-d400-a3e1e1b21152"
      },
      "source": [
        "np.arange(10,51,2)"
      ],
      "execution_count": null,
      "outputs": [
        {
          "output_type": "execute_result",
          "data": {
            "text/plain": [
              "array([10, 12, 14, 16, 18, 20, 22, 24, 26, 28, 30, 32, 34, 36, 38, 40, 42,\n",
              "       44, 46, 48, 50])"
            ]
          },
          "metadata": {
            "tags": []
          },
          "execution_count": 6
        }
      ]
    },
    {
      "cell_type": "markdown",
      "metadata": {
        "id": "J58gnzTqlHFD"
      },
      "source": [
        "Create a 3x3 matrix with values ranging from 0 to 8"
      ]
    },
    {
      "cell_type": "code",
      "metadata": {
        "id": "G2G_1jj5lHFD",
        "outputId": "91760af4-8f9d-4651-b764-960257c96a5b"
      },
      "source": [
        "np.arange(9).reshape(3,3)"
      ],
      "execution_count": null,
      "outputs": [
        {
          "output_type": "execute_result",
          "data": {
            "text/plain": [
              "array([[0, 1, 2],\n",
              "       [3, 4, 5],\n",
              "       [6, 7, 8]])"
            ]
          },
          "metadata": {
            "tags": []
          },
          "execution_count": 7
        }
      ]
    },
    {
      "cell_type": "markdown",
      "metadata": {
        "id": "Dc_VqH2VlHFD"
      },
      "source": [
        "Create a 3x3 identity matrix"
      ]
    },
    {
      "cell_type": "code",
      "metadata": {
        "id": "HhYKHECQlHFD",
        "outputId": "791f2d0e-88a5-4621-c332-56e3e5b9a702"
      },
      "source": [
        "np.eye(3)"
      ],
      "execution_count": null,
      "outputs": [
        {
          "output_type": "execute_result",
          "data": {
            "text/plain": [
              "array([[1., 0., 0.],\n",
              "       [0., 1., 0.],\n",
              "       [0., 0., 1.]])"
            ]
          },
          "metadata": {
            "tags": []
          },
          "execution_count": 8
        }
      ]
    },
    {
      "cell_type": "markdown",
      "metadata": {
        "id": "LALWcblxlHFE"
      },
      "source": [
        "Use NumPy to generate a random number between 0 and 1"
      ]
    },
    {
      "cell_type": "code",
      "metadata": {
        "id": "MN8fmwlwlHFE",
        "outputId": "5d065d76-bd3f-4742-e426-832cff1b1b28"
      },
      "source": [
        "np.random.rand(1)"
      ],
      "execution_count": null,
      "outputs": [
        {
          "output_type": "execute_result",
          "data": {
            "text/plain": [
              "array([0.51398167])"
            ]
          },
          "metadata": {
            "tags": []
          },
          "execution_count": 9
        }
      ]
    },
    {
      "cell_type": "markdown",
      "metadata": {
        "id": "dZHTz6_llHFE"
      },
      "source": [
        "Use NumPy to generate an array of 25 random numbers sampled from a standard normal distribution"
      ]
    },
    {
      "cell_type": "code",
      "metadata": {
        "id": "lz39-y4zlHFF",
        "outputId": "a45a3d91-7d69-4046-d1ac-b2789841cc5b"
      },
      "source": [
        "np.random.randn(25)"
      ],
      "execution_count": null,
      "outputs": [
        {
          "output_type": "execute_result",
          "data": {
            "text/plain": [
              "array([ 0.13831914,  1.28615575,  1.01921511, -0.47402982,  0.64456789,\n",
              "        0.75742207, -1.39608963, -1.13812427, -1.50923374,  2.26765328,\n",
              "        0.55070679, -1.87854806,  1.01662293,  0.5178121 , -0.77210984,\n",
              "       -1.63752378, -0.58668157, -0.71608423, -0.42375242, -1.04515325,\n",
              "       -1.53238458,  1.18994788,  0.77490136,  1.06743755,  0.26112235])"
            ]
          },
          "metadata": {
            "tags": []
          },
          "execution_count": 10
        }
      ]
    },
    {
      "cell_type": "markdown",
      "metadata": {
        "id": "IV8_WCtolHFF"
      },
      "source": [
        "Create the following matrix"
      ]
    },
    {
      "cell_type": "code",
      "metadata": {
        "id": "MQWyvkLYlHFF",
        "outputId": "514cebf4-eab7-41f5-9a61-2bdb2f79b67f"
      },
      "source": [
        "np.arange(1,101).reshape(10,10) / 100.0"
      ],
      "execution_count": null,
      "outputs": [
        {
          "output_type": "execute_result",
          "data": {
            "text/plain": [
              "array([[0.01, 0.02, 0.03, 0.04, 0.05, 0.06, 0.07, 0.08, 0.09, 0.1 ],\n",
              "       [0.11, 0.12, 0.13, 0.14, 0.15, 0.16, 0.17, 0.18, 0.19, 0.2 ],\n",
              "       [0.21, 0.22, 0.23, 0.24, 0.25, 0.26, 0.27, 0.28, 0.29, 0.3 ],\n",
              "       [0.31, 0.32, 0.33, 0.34, 0.35, 0.36, 0.37, 0.38, 0.39, 0.4 ],\n",
              "       [0.41, 0.42, 0.43, 0.44, 0.45, 0.46, 0.47, 0.48, 0.49, 0.5 ],\n",
              "       [0.51, 0.52, 0.53, 0.54, 0.55, 0.56, 0.57, 0.58, 0.59, 0.6 ],\n",
              "       [0.61, 0.62, 0.63, 0.64, 0.65, 0.66, 0.67, 0.68, 0.69, 0.7 ],\n",
              "       [0.71, 0.72, 0.73, 0.74, 0.75, 0.76, 0.77, 0.78, 0.79, 0.8 ],\n",
              "       [0.81, 0.82, 0.83, 0.84, 0.85, 0.86, 0.87, 0.88, 0.89, 0.9 ],\n",
              "       [0.91, 0.92, 0.93, 0.94, 0.95, 0.96, 0.97, 0.98, 0.99, 1.  ]])"
            ]
          },
          "metadata": {
            "tags": []
          },
          "execution_count": 11
        }
      ]
    },
    {
      "cell_type": "markdown",
      "metadata": {
        "id": "zzJaO3CAlHFG"
      },
      "source": [
        "Create an array of 20 linearly spaced points between 0 and 1"
      ]
    },
    {
      "cell_type": "code",
      "metadata": {
        "id": "I1BfYg0ClHFG",
        "outputId": "54b6e00a-b6dd-4a9f-ccc2-b936a04d304d"
      },
      "source": [
        "np.linspace(0,1,20)"
      ],
      "execution_count": null,
      "outputs": [
        {
          "output_type": "execute_result",
          "data": {
            "text/plain": [
              "array([0.        , 0.05263158, 0.10526316, 0.15789474, 0.21052632,\n",
              "       0.26315789, 0.31578947, 0.36842105, 0.42105263, 0.47368421,\n",
              "       0.52631579, 0.57894737, 0.63157895, 0.68421053, 0.73684211,\n",
              "       0.78947368, 0.84210526, 0.89473684, 0.94736842, 1.        ])"
            ]
          },
          "metadata": {
            "tags": []
          },
          "execution_count": 12
        }
      ]
    },
    {
      "cell_type": "markdown",
      "metadata": {
        "id": "omp2Tap7lHFG"
      },
      "source": [
        "Write a function that takes as input a 2-D ndarray and scales the last row and column by 2"
      ]
    },
    {
      "cell_type": "code",
      "metadata": {
        "id": "2pFnLd4ilHFG",
        "outputId": "c8051af4-e316-4a4b-f6b9-707820c57532"
      },
      "source": [
        "def scale(A):\n",
        "    A[-1, :] *= 2\n",
        "    A[:, -1] *= 2\n",
        "\n",
        "M = np.array([[1, 2], [3, 4]])\n",
        "scale(M)\n",
        "print (M)"
      ],
      "execution_count": null,
      "outputs": [
        {
          "output_type": "stream",
          "text": [
            "[[ 1  4]\n",
            " [ 6 16]]\n"
          ],
          "name": "stdout"
        }
      ]
    },
    {
      "cell_type": "markdown",
      "metadata": {
        "id": "xGoOcXBzlHFG"
      },
      "source": [
        "Create a numpy array with 100 numbers from 1 to 20. You are not allowed to use any loop"
      ]
    },
    {
      "cell_type": "code",
      "metadata": {
        "id": "ix8cTqLHlHFG"
      },
      "source": [
        "b=np.linspace(1,20,100)"
      ],
      "execution_count": null,
      "outputs": []
    },
    {
      "cell_type": "markdown",
      "metadata": {
        "id": "MHcB-0hjlHFG"
      },
      "source": [
        "Create a numpy array containing the sine of the numbers from the above array. "
      ]
    },
    {
      "cell_type": "code",
      "metadata": {
        "id": "8-wSILZ9lHFH"
      },
      "source": [
        "c=np.sin(b)"
      ],
      "execution_count": null,
      "outputs": []
    },
    {
      "cell_type": "markdown",
      "metadata": {
        "id": "B8kFdR1LlHFH"
      },
      "source": [
        "Compute the dot product of arrays [1,2,3,4] and [cos(1),cos(2), cos(3)], but first you have to reshape them into  2-dimensional arrays\n"
      ]
    },
    {
      "cell_type": "code",
      "metadata": {
        "id": "L-MLkCW_lHFH",
        "outputId": "26d44a21-65f3-4f1c-9458-a14865dc0fc7"
      },
      "source": [
        "v = np.arange(1,5)\n",
        "v.shape = (4,1)\n",
        "t = np.cos(np.arange(1,4))\n",
        "t.shape = (1,3)\n",
        "m = np.dot(v,t)\n",
        "print (m)"
      ],
      "execution_count": null,
      "outputs": [
        {
          "output_type": "stream",
          "text": [
            "[[ 0.54030231 -0.41614684 -0.9899925 ]\n",
            " [ 1.08060461 -0.83229367 -1.97998499]\n",
            " [ 1.62090692 -1.24844051 -2.96997749]\n",
            " [ 2.16120922 -1.66458735 -3.95996999]]\n"
          ],
          "name": "stdout"
        }
      ]
    },
    {
      "cell_type": "markdown",
      "metadata": {
        "id": "eP06uJyTlHFH"
      },
      "source": [
        "Create two numpy arrays (3,3)  - A, B\n"
      ]
    },
    {
      "cell_type": "code",
      "metadata": {
        "id": "FUlakhV8lHFH"
      },
      "source": [
        "A = np.array([[1,2,3],[4,5,6],[7,8,9]])\n",
        "B = np.array([[12,32,23],[54,25,76],[17,78,39]])\n"
      ],
      "execution_count": null,
      "outputs": []
    },
    {
      "cell_type": "markdown",
      "metadata": {
        "id": "M-FIZeG4lHFH"
      },
      "source": [
        "compute A + B"
      ]
    },
    {
      "cell_type": "code",
      "metadata": {
        "id": "cTiz-NAilHFH",
        "outputId": "c38542a6-a454-4077-b029-91ad79268a9b"
      },
      "source": [
        "A+B"
      ],
      "execution_count": null,
      "outputs": [
        {
          "output_type": "execute_result",
          "data": {
            "text/plain": [
              "array([[13, 34, 26],\n",
              "       [58, 30, 82],\n",
              "       [24, 86, 48]])"
            ]
          },
          "metadata": {
            "tags": []
          },
          "execution_count": 19
        }
      ]
    },
    {
      "cell_type": "markdown",
      "metadata": {
        "id": "ZjaMf-LelHFH"
      },
      "source": [
        "compute 3A + B"
      ]
    },
    {
      "cell_type": "code",
      "metadata": {
        "id": "eJz2x0gwlHFH",
        "outputId": "763b60c3-6644-45ab-bad3-78fdc43754bf"
      },
      "source": [
        "A*3 + B"
      ],
      "execution_count": null,
      "outputs": [
        {
          "output_type": "execute_result",
          "data": {
            "text/plain": [
              "array([[ 15,  38,  32],\n",
              "       [ 66,  40,  94],\n",
              "       [ 38, 102,  66]])"
            ]
          },
          "metadata": {
            "tags": []
          },
          "execution_count": 20
        }
      ]
    },
    {
      "cell_type": "markdown",
      "metadata": {
        "id": "511sxuUAlHFH"
      },
      "source": [
        "Find the maximum and the minimum of B"
      ]
    },
    {
      "cell_type": "code",
      "metadata": {
        "id": "uKmTpAEtlHFH",
        "outputId": "8b5832da-942c-402d-b77e-65a62ef28fe2"
      },
      "source": [
        "print (np.min(B))\n",
        "print (np.max(B))"
      ],
      "execution_count": null,
      "outputs": [
        {
          "output_type": "stream",
          "text": [
            "12\n",
            "78\n"
          ],
          "name": "stdout"
        }
      ]
    },
    {
      "cell_type": "markdown",
      "metadata": {
        "id": "OH2I48DClHFH"
      },
      "source": [
        "Normalize the matrix B by adding a constant c that makes its minimum be equal to 0"
      ]
    },
    {
      "cell_type": "code",
      "metadata": {
        "id": "saQwQ3bzlHFI",
        "outputId": "200a3f34-2abd-44cc-9844-7da8255bfe0e"
      },
      "source": [
        "B-np.min(B)"
      ],
      "execution_count": null,
      "outputs": [
        {
          "output_type": "execute_result",
          "data": {
            "text/plain": [
              "array([[ 0, 20, 11],\n",
              "       [42, 13, 64],\n",
              "       [ 5, 66, 27]])"
            ]
          },
          "metadata": {
            "tags": []
          },
          "execution_count": 23
        }
      ]
    },
    {
      "cell_type": "markdown",
      "metadata": {
        "id": "CUt6pdtnlHFI"
      },
      "source": [
        "Compute the sum of the elements in A"
      ]
    },
    {
      "cell_type": "code",
      "metadata": {
        "id": "swgc_yKMlHFJ",
        "outputId": "6b84a7fd-a199-497c-bdec-8ab7be3bb963"
      },
      "source": [
        "A.sum()"
      ],
      "execution_count": null,
      "outputs": [
        {
          "output_type": "execute_result",
          "data": {
            "text/plain": [
              "45"
            ]
          },
          "metadata": {
            "tags": []
          },
          "execution_count": 24
        }
      ]
    },
    {
      "cell_type": "markdown",
      "metadata": {
        "id": "VpqtFEyAlHFJ"
      },
      "source": [
        "Compute the transpose of A"
      ]
    },
    {
      "cell_type": "code",
      "metadata": {
        "id": "Oq1ZIXJ-lHFJ",
        "outputId": "44a35eb2-1612-4c27-8c73-e0e7a757a5e1"
      },
      "source": [
        "A.T"
      ],
      "execution_count": null,
      "outputs": [
        {
          "output_type": "execute_result",
          "data": {
            "text/plain": [
              "array([[1, 4, 7],\n",
              "       [2, 5, 8],\n",
              "       [3, 6, 9]])"
            ]
          },
          "metadata": {
            "tags": []
          },
          "execution_count": 25
        }
      ]
    },
    {
      "cell_type": "markdown",
      "metadata": {
        "id": "v0AHb1g_lHFJ"
      },
      "source": [
        "Compute the inverse of A. Use numpy.linalg"
      ]
    },
    {
      "cell_type": "code",
      "metadata": {
        "id": "4A5M-XlBlHFJ",
        "outputId": "f35d5b67-0841-4c6c-fcbb-d13dc09ccf62"
      },
      "source": [
        "np.linalg.inv(A)"
      ],
      "execution_count": null,
      "outputs": [
        {
          "output_type": "execute_result",
          "data": {
            "text/plain": [
              "array([[-4.50359963e+15,  9.00719925e+15, -4.50359963e+15],\n",
              "       [ 9.00719925e+15, -1.80143985e+16,  9.00719925e+15],\n",
              "       [-4.50359963e+15,  9.00719925e+15, -4.50359963e+15]])"
            ]
          },
          "metadata": {
            "tags": []
          },
          "execution_count": 26
        }
      ]
    },
    {
      "cell_type": "markdown",
      "metadata": {
        "id": "FX9dTW34lHFJ"
      },
      "source": [
        "Compute the determinant of A"
      ]
    },
    {
      "cell_type": "code",
      "metadata": {
        "id": "2uU-DOtilHFJ",
        "outputId": "083fb98b-bcca-4a1d-e421-54aa2d5677d6"
      },
      "source": [
        "np.linalg.det(A)"
      ],
      "execution_count": null,
      "outputs": [
        {
          "output_type": "execute_result",
          "data": {
            "text/plain": [
              "6.66133814775094e-16"
            ]
          },
          "metadata": {
            "tags": []
          },
          "execution_count": 27
        }
      ]
    },
    {
      "cell_type": "markdown",
      "metadata": {
        "id": "MCSPf5eSlHFJ"
      },
      "source": [
        "Solve the following equations:\n",
        "    X  + 2Y = 3\n",
        "    3X + 4Y = 0"
      ]
    },
    {
      "cell_type": "code",
      "metadata": {
        "id": "Cy9628NRlHFK",
        "outputId": "75217b81-987a-4e0b-f996-52e0f982d0e8"
      },
      "source": [
        "A = np.array([[1,2],[3,4]])\n",
        "B = np.array([3,0])\n",
        "print (np.linalg.solve(A,B))"
      ],
      "execution_count": null,
      "outputs": [
        {
          "output_type": "stream",
          "text": [
            "[-6.   4.5]\n"
          ],
          "name": "stdout"
        }
      ]
    },
    {
      "cell_type": "code",
      "metadata": {
        "id": "BaLmOasdlHFK"
      },
      "source": [
        ""
      ],
      "execution_count": null,
      "outputs": []
    }
  ]
}